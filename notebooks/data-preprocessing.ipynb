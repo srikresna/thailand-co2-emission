{
 "cells": [
  {
   "attachments": {},
   "cell_type": "markdown",
   "metadata": {},
   "source": [
    "<h1>DATA PREPROCESSING </h1>\n",
    "We will use simple uni-variate model time forecasting model in this tutorial. Hence, we will only use the CO2 emission history to build the forecasting model. Additional features such as GDP, polulation, or the number of vehicles sold are not incorporated in the modelling. We apply the following pre-processings to the CO2 emission data:\n",
    "\n",
    "* Change time resolution to year-month\n",
    "* Extend the time period of all csvs to include values from 1987-01~\n",
    "* Merge source and fueltype into one column"
   ]
  },
  {
   "cell_type": "code",
   "execution_count": 2,
   "metadata": {},
   "outputs": [],
   "source": [
    "import pandas as pd\n",
    "import numpy as np\n",
    "import matplotlib.pyplot as plt\n",
    "import datetime\n",
    "\n",
    "import warnings\n",
    "warnings.filterwarnings('ignore')"
   ]
  },
  {
   "cell_type": "code",
   "execution_count": 3,
   "metadata": {},
   "outputs": [],
   "source": [
    "def inter_extra_polate(df,\n",
    "                column_name = \"time\",\n",
    "                by          = \"MS\",\n",
    "                start       = \"1987-01-01 00:00:00\",\n",
    "                end         = \"2021-12-01 00:00:00\"):\n",
    "    \n",
    "    \"\"\"\n",
    "    this function standardize the time range from \"arg:start\" to \"arg:end\" with linear interpolation and extrapolation.\n",
    "    \"\"\"\n",
    "    \n",
    "    # set the index of the dataframe to the timestamps\n",
    "    df.set_index(column_name, inplace=True)\n",
    "\n",
    "    # generate a series of timestamps at 1-m intervals between start_time and end_time\n",
    "    extrap_index = pd.date_range(start = pd.to_datetime(start),\n",
    "                                 end   = pd.to_datetime(end),\n",
    "                                 freq  = by)\n",
    "\n",
    "    # reindex the dataframe with the new timestamps, filling missing values with NaN\n",
    "    df = df.reindex(extrap_index)\n",
    "    \n",
    "    # fill missing values with linear interpolation between neighboring values\n",
    "    df = df.interpolate(method='linear', limit_direction=\"both\").reset_index()\n",
    "    \n",
    "    # rename index to \"time\"\n",
    "    df[column_name] = df[\"index\"]\n",
    "    del df[\"index\"]\n",
    "    \n",
    "    return df"
   ]
  },
  {
   "cell_type": "code",
   "execution_count": 4,
   "metadata": {},
   "outputs": [],
   "source": [
    "# load the data again\n",
    "df = pd.read_csv(\"../datasets/train.csv\")"
   ]
  },
  {
   "cell_type": "code",
   "execution_count": 5,
   "metadata": {},
   "outputs": [],
   "source": [
    "# change time resolution from year-month to datetime\n",
    "df[\"time\"] = df.apply(lambda row : pd.to_datetime(str(row[\"year\"]) + \" \" + str(row[\"month\"])), axis = 1)"
   ]
  },
  {
   "cell_type": "code",
   "execution_count": 6,
   "metadata": {},
   "outputs": [],
   "source": [
    "# delete unnecessary columns\n",
    "del df[\"year\"]\n",
    "del df[\"month\"]"
   ]
  },
  {
   "cell_type": "code",
   "execution_count": 7,
   "metadata": {},
   "outputs": [],
   "source": [
    "# merge  source and fueltype to source_fueltype\n",
    "df[\"source_fueltype\"] = df[[\"source\", \"fuel_type\"]].apply(\"-\".join, axis=1)\n",
    "del df[\"source\"]\n",
    "del df[\"fuel_type\"]"
   ]
  },
  {
   "cell_type": "code",
   "execution_count": 9,
   "metadata": {},
   "outputs": [
    {
     "data": {
      "text/html": [
       "<div>\n",
       "<style scoped>\n",
       "    .dataframe tbody tr th:only-of-type {\n",
       "        vertical-align: middle;\n",
       "    }\n",
       "\n",
       "    .dataframe tbody tr th {\n",
       "        vertical-align: top;\n",
       "    }\n",
       "\n",
       "    .dataframe thead th {\n",
       "        text-align: right;\n",
       "    }\n",
       "</style>\n",
       "<table border=\"1\" class=\"dataframe\">\n",
       "  <thead>\n",
       "    <tr style=\"text-align: right;\">\n",
       "      <th></th>\n",
       "      <th>emissions_tons</th>\n",
       "      <th>time</th>\n",
       "      <th>source_fueltype</th>\n",
       "    </tr>\n",
       "  </thead>\n",
       "  <tbody>\n",
       "    <tr>\n",
       "      <th>0</th>\n",
       "      <td>1588.61</td>\n",
       "      <td>1987-01-01</td>\n",
       "      <td>transport-oil</td>\n",
       "    </tr>\n",
       "    <tr>\n",
       "      <th>1</th>\n",
       "      <td>1428.29</td>\n",
       "      <td>1987-02-01</td>\n",
       "      <td>transport-oil</td>\n",
       "    </tr>\n",
       "    <tr>\n",
       "      <th>2</th>\n",
       "      <td>1581.16</td>\n",
       "      <td>1987-03-01</td>\n",
       "      <td>transport-oil</td>\n",
       "    </tr>\n",
       "    <tr>\n",
       "      <th>3</th>\n",
       "      <td>1557.40</td>\n",
       "      <td>1987-04-01</td>\n",
       "      <td>transport-oil</td>\n",
       "    </tr>\n",
       "    <tr>\n",
       "      <th>4</th>\n",
       "      <td>1513.35</td>\n",
       "      <td>1987-05-01</td>\n",
       "      <td>transport-oil</td>\n",
       "    </tr>\n",
       "  </tbody>\n",
       "</table>\n",
       "</div>"
      ],
      "text/plain": [
       "   emissions_tons       time source_fueltype\n",
       "0         1588.61 1987-01-01   transport-oil\n",
       "1         1428.29 1987-02-01   transport-oil\n",
       "2         1581.16 1987-03-01   transport-oil\n",
       "3         1557.40 1987-04-01   transport-oil\n",
       "4         1513.35 1987-05-01   transport-oil"
      ]
     },
     "execution_count": 9,
     "metadata": {},
     "output_type": "execute_result"
    }
   ],
   "source": [
    "df.head()"
   ]
  },
  {
   "cell_type": "code",
   "execution_count": 12,
   "metadata": {},
   "outputs": [],
   "source": [
    "# unmelt\n",
    "df = df.pivot(index='time', columns='source_fueltype', values='emissions_tons') \n",
    "df = df.reset_index()\n",
    "\n",
    "df = inter_extra_polate(df)\n",
    "\n",
    "df = df.set_index(\"time\")"
   ]
  },
  {
   "cell_type": "code",
   "execution_count": 13,
   "metadata": {},
   "outputs": [
    {
     "data": {
      "text/html": [
       "<div>\n",
       "<style scoped>\n",
       "    .dataframe tbody tr th:only-of-type {\n",
       "        vertical-align: middle;\n",
       "    }\n",
       "\n",
       "    .dataframe tbody tr th {\n",
       "        vertical-align: top;\n",
       "    }\n",
       "\n",
       "    .dataframe thead th {\n",
       "        text-align: right;\n",
       "    }\n",
       "</style>\n",
       "<table border=\"1\" class=\"dataframe\">\n",
       "  <thead>\n",
       "    <tr style=\"text-align: right;\">\n",
       "      <th>source_fueltype</th>\n",
       "      <th>industry-coal</th>\n",
       "      <th>industry-natural_gas</th>\n",
       "      <th>industry-oil</th>\n",
       "      <th>other-oil</th>\n",
       "      <th>transport-natural_gas</th>\n",
       "      <th>transport-oil</th>\n",
       "    </tr>\n",
       "    <tr>\n",
       "      <th>time</th>\n",
       "      <th></th>\n",
       "      <th></th>\n",
       "      <th></th>\n",
       "      <th></th>\n",
       "      <th></th>\n",
       "      <th></th>\n",
       "    </tr>\n",
       "  </thead>\n",
       "  <tbody>\n",
       "    <tr>\n",
       "      <th>1987-01-01</th>\n",
       "      <td>190.50</td>\n",
       "      <td>11.37</td>\n",
       "      <td>531.26</td>\n",
       "      <td>587.72</td>\n",
       "      <td>0.43</td>\n",
       "      <td>1588.61</td>\n",
       "    </tr>\n",
       "    <tr>\n",
       "      <th>1987-02-01</th>\n",
       "      <td>280.42</td>\n",
       "      <td>7.11</td>\n",
       "      <td>408.65</td>\n",
       "      <td>535.58</td>\n",
       "      <td>0.43</td>\n",
       "      <td>1428.29</td>\n",
       "    </tr>\n",
       "    <tr>\n",
       "      <th>1987-03-01</th>\n",
       "      <td>143.21</td>\n",
       "      <td>8.36</td>\n",
       "      <td>444.82</td>\n",
       "      <td>584.31</td>\n",
       "      <td>0.43</td>\n",
       "      <td>1581.16</td>\n",
       "    </tr>\n",
       "    <tr>\n",
       "      <th>1987-04-01</th>\n",
       "      <td>186.45</td>\n",
       "      <td>6.72</td>\n",
       "      <td>433.29</td>\n",
       "      <td>565.79</td>\n",
       "      <td>0.43</td>\n",
       "      <td>1557.40</td>\n",
       "    </tr>\n",
       "    <tr>\n",
       "      <th>1987-05-01</th>\n",
       "      <td>273.05</td>\n",
       "      <td>9.45</td>\n",
       "      <td>495.61</td>\n",
       "      <td>563.24</td>\n",
       "      <td>0.43</td>\n",
       "      <td>1513.35</td>\n",
       "    </tr>\n",
       "  </tbody>\n",
       "</table>\n",
       "</div>"
      ],
      "text/plain": [
       "source_fueltype  industry-coal  industry-natural_gas  industry-oil  other-oil   \n",
       "time                                                                            \n",
       "1987-01-01              190.50                 11.37        531.26     587.72  \\\n",
       "1987-02-01              280.42                  7.11        408.65     535.58   \n",
       "1987-03-01              143.21                  8.36        444.82     584.31   \n",
       "1987-04-01              186.45                  6.72        433.29     565.79   \n",
       "1987-05-01              273.05                  9.45        495.61     563.24   \n",
       "\n",
       "source_fueltype  transport-natural_gas  transport-oil  \n",
       "time                                                   \n",
       "1987-01-01                        0.43        1588.61  \n",
       "1987-02-01                        0.43        1428.29  \n",
       "1987-03-01                        0.43        1581.16  \n",
       "1987-04-01                        0.43        1557.40  \n",
       "1987-05-01                        0.43        1513.35  "
      ]
     },
     "execution_count": 13,
     "metadata": {},
     "output_type": "execute_result"
    }
   ],
   "source": [
    "df.head()"
   ]
  },
  {
   "cell_type": "code",
   "execution_count": 18,
   "metadata": {},
   "outputs": [],
   "source": [
    "# save the data\n",
    "df.to_csv(\"../datasets/train-processed.csv\", index=False)"
   ]
  },
  {
   "cell_type": "code",
   "execution_count": null,
   "metadata": {},
   "outputs": [],
   "source": []
  }
 ],
 "metadata": {
  "kernelspec": {
   "display_name": "base",
   "language": "python",
   "name": "python3"
  },
  "language_info": {
   "codemirror_mode": {
    "name": "ipython",
    "version": 3
   },
   "file_extension": ".py",
   "mimetype": "text/x-python",
   "name": "python",
   "nbconvert_exporter": "python",
   "pygments_lexer": "ipython3",
   "version": "3.10.8"
  },
  "orig_nbformat": 4,
  "vscode": {
   "interpreter": {
    "hash": "9429e3d8733c1ac76f5c3b0c6cdd2706acd1fd7b4f8c91f27a242412c8600fc4"
   }
  }
 },
 "nbformat": 4,
 "nbformat_minor": 2
}
